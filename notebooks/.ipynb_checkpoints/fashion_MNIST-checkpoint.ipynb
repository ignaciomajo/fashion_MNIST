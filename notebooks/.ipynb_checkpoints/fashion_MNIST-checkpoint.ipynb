{
 "cells": [
  {
   "cell_type": "markdown",
   "id": "36a8fb67-c054-4c79-8e12-e140b65a795d",
   "metadata": {},
   "source": [
    "Computer Vision - Fashion MNIST\n",
    "----------------"
   ]
  },
  {
   "cell_type": "markdown",
   "id": "369afec9-32d8-4c23-8d7b-3069a8eebe2b",
   "metadata": {},
   "source": [
    "## Import relevant libraries"
   ]
  },
  {
   "cell_type": "code",
   "execution_count": 1,
   "id": "6780c8bf-0737-47f1-afa6-c9bb0cd5f899",
   "metadata": {},
   "outputs": [],
   "source": [
    "import numpy as np\n",
    "import matplotlib\n",
    "import matplotlib.pyplot as plt\n",
    "import seaborn as sns\n",
    "import sklearn\n",
    "from sklearn.model_selection import train_test_split\n",
    "from pathlib import Path\n",
    "from IPython.display import clear_output\n",
    "\n",
    "import torch\n",
    "from torch import nn\n",
    "\n",
    "import torchvision\n",
    "from torchvision import datasets\n",
    "from torchvision import transforms\n",
    "from torchvision.transforms import ToTensor"
   ]
  },
  {
   "cell_type": "code",
   "execution_count": 2,
   "id": "1a18cbea-428f-420a-a32c-cfe3f68b5c9f",
   "metadata": {},
   "outputs": [
    {
     "name": "stdout",
     "output_type": "stream",
     "text": [
      "Libraries Versions\n",
      "----------------------\n",
      "numpy==1.26.4\n",
      "matplotlib==3.10.0\n",
      "seaborn==0.13.2\n",
      "scikit-learn==1.5.2\n",
      "torch==2.5.1\n",
      "torchvision==0.20.1\n",
      "----------------------\n"
     ]
    }
   ],
   "source": [
    "print('Libraries Versions\\n----------------------')\n",
    "print(f'numpy=={np.__version__}')\n",
    "print(f'matplotlib=={matplotlib.__version__}')\n",
    "print(f'seaborn=={sns.__version__}')\n",
    "print(f'scikit-learn=={sklearn.__version__}')\n",
    "print(f'torch=={torch.__version__}')\n",
    "print(f'torchvision=={torchvision.__version__}')\n",
    "print('----------------------')"
   ]
  },
  {
   "cell_type": "markdown",
   "id": "a35dda6c-3c3c-40d8-935f-eadc572c7c5f",
   "metadata": {},
   "source": [
    "## Paths"
   ]
  },
  {
   "cell_type": "code",
   "execution_count": 3,
   "id": "edb7ee8c-d8d2-4a64-93c6-63638b0b5871",
   "metadata": {},
   "outputs": [
    {
     "name": "stdout",
     "output_type": "stream",
     "text": [
      "Data directory created as \"src\"\n",
      "Notebooks directory already exists\n",
      "Reports directory created as \"reports\"\n",
      "Images directory created as \"img\"\n",
      "Models directory created as \"models\"\n"
     ]
    }
   ],
   "source": [
    "PROJECT_PATH = Path('C:/Users/Ignacio/JupyterScripts/PyTorch/fashion_MNIST')\n",
    "subdirs={\n",
    "    'Data': 'src',\n",
    "    'Notebooks': 'notebooks',\n",
    "    'Reports': 'reports',\n",
    "    'Images': 'img',\n",
    "    'Models': 'models'\n",
    "}\n",
    "\n",
    "for task, folder_name in subdirs.items():\n",
    "    path = PROJECT_PATH / folder_name\n",
    "    if not path.exists():\n",
    "        path.mkdir(parents=True)\n",
    "        print(f'{task} directory created as \"{folder_name}\"')\n",
    "    else:\n",
    "        print(f'{task} directory already exists')"
   ]
  },
  {
   "cell_type": "code",
   "execution_count": 4,
   "id": "2da43293-c64f-44d1-b767-0c3a2827a05c",
   "metadata": {},
   "outputs": [],
   "source": [
    "DATA_PATH = PROJECT_PATH / subdirs['Data']\n",
    "NOTEBOOKS_PATH = PROJECT_PATH / subdirs['Notebooks']\n",
    "REPORTS_PATH = PROJECT_PATH / subdirs['Reports']\n",
    "IMAGES_PATH = PROJECT_PATH / subdirs['Images']\n",
    "MODELS_PATH = PROJECT_PATH / subdirs['Models']"
   ]
  },
  {
   "cell_type": "markdown",
   "id": "a9e1a77b-b938-43ce-b5fa-c1f7c902ea62",
   "metadata": {},
   "source": [
    "## Getting the data\n",
    "\n",
    "The Fashion MNIST dataset will be downloaded from `torchvision.datasets`"
   ]
  },
  {
   "cell_type": "code",
   "execution_count": 5,
   "id": "ad839e91-e551-42f0-a2c0-5a862efdcd33",
   "metadata": {},
   "outputs": [
    {
     "name": "stdout",
     "output_type": "stream",
     "text": [
      "Train data downloaded succesfully\n",
      "Test data downloaded succesfully\n"
     ]
    }
   ],
   "source": [
    "try:\n",
    "    train_data = datasets.FashionMNIST(\n",
    "                    root=DATA_PATH,\n",
    "                    train=True,\n",
    "                    download=True,\n",
    "                    transform=ToTensor(),\n",
    "                    target_transform=None\n",
    "                )\n",
    "    clear_output(wait=True)\n",
    "    \n",
    "    \n",
    "    test_data = datasets.FashionMNIST(\n",
    "                    root=DATA_PATH,\n",
    "                    train=False,\n",
    "                    download=True,\n",
    "                    transform=ToTensor(),\n",
    "                    target_transform=None\n",
    "                )\n",
    "    clear_output(wait=True)\n",
    "    print('Train data downloaded succesfully')\n",
    "    print('Test data downloaded succesfully')\n",
    "\n",
    "except Exception as e:\n",
    "    print('Could not download the data, please try again')\n",
    "    print(e)"
   ]
  },
  {
   "cell_type": "code",
   "execution_count": null,
   "id": "890e4520-0a72-468e-8ab3-216d908a7072",
   "metadata": {},
   "outputs": [],
   "source": []
  },
  {
   "cell_type": "code",
   "execution_count": null,
   "id": "83f7eabd-6e97-43ec-86eb-cb972ce58e4f",
   "metadata": {},
   "outputs": [],
   "source": []
  },
  {
   "cell_type": "code",
   "execution_count": null,
   "id": "76805276-35ae-4676-8f61-b75189084fc7",
   "metadata": {},
   "outputs": [],
   "source": []
  },
  {
   "cell_type": "code",
   "execution_count": null,
   "id": "36288a72-affa-4548-8ac2-69cac05c1ae9",
   "metadata": {},
   "outputs": [],
   "source": []
  }
 ],
 "metadata": {
  "kernelspec": {
   "display_name": "Python 3 (ipykernel)",
   "language": "python",
   "name": "python3"
  },
  "language_info": {
   "codemirror_mode": {
    "name": "ipython",
    "version": 3
   },
   "file_extension": ".py",
   "mimetype": "text/x-python",
   "name": "python",
   "nbconvert_exporter": "python",
   "pygments_lexer": "ipython3",
   "version": "3.11.7"
  }
 },
 "nbformat": 4,
 "nbformat_minor": 5
}
