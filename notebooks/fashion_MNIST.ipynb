{
 "cells": [
  {
   "cell_type": "markdown",
   "id": "36a8fb67-c054-4c79-8e12-e140b65a795d",
   "metadata": {},
   "source": [
    "Computer Vision - Fashion MNIST\n",
    "----------------"
   ]
  },
  {
   "cell_type": "markdown",
   "id": "369afec9-32d8-4c23-8d7b-3069a8eebe2b",
   "metadata": {},
   "source": [
    "## Import relevant libraries"
   ]
  },
  {
   "cell_type": "code",
   "execution_count": 4,
   "id": "6780c8bf-0737-47f1-afa6-c9bb0cd5f899",
   "metadata": {},
   "outputs": [],
   "source": [
    "import numpy as np\n",
    "import matplotlib\n",
    "import matplotlib.pyplot as plt\n",
    "import seaborn as sns\n",
    "import sklearn\n",
    "from sklearn.model_selection import train_test_split\n",
    "from pathlib import Path\n",
    "\n",
    "import torch\n",
    "from torch import nn\n",
    "\n",
    "import torchvision\n",
    "from torchvision import datasets\n",
    "from torchvision import transforms\n",
    "from torchvision.transforms import ToTensor"
   ]
  },
  {
   "cell_type": "code",
   "execution_count": 5,
   "id": "1a18cbea-428f-420a-a32c-cfe3f68b5c9f",
   "metadata": {},
   "outputs": [
    {
     "name": "stdout",
     "output_type": "stream",
     "text": [
      "Libraries Versions\n",
      "----------------------\n",
      "numpy==1.26.4\n",
      "matplotlib==3.10.0\n",
      "seaborn==0.13.2\n",
      "scikit-learn==1.5.2\n",
      "torch==2.5.1\n",
      "torchvision==0.20.1\n",
      "----------------------\n"
     ]
    }
   ],
   "source": [
    "print('Libraries Versions\\n----------------------')\n",
    "print(f'numpy=={np.__version__}')\n",
    "print(f'matplotlib=={matplotlib.__version__}')\n",
    "print(f'seaborn=={sns.__version__}')\n",
    "print(f'scikit-learn=={sklearn.__version__}')\n",
    "print(f'torch=={torch.__version__}')\n",
    "print(f'torchvision=={torchvision.__version__}')\n",
    "print('----------------------')"
   ]
  },
  {
   "cell_type": "markdown",
   "id": "a35dda6c-3c3c-40d8-935f-eadc572c7c5f",
   "metadata": {},
   "source": [
    "## Paths"
   ]
  },
  {
   "cell_type": "code",
   "execution_count": 7,
   "id": "edb7ee8c-d8d2-4a64-93c6-63638b0b5871",
   "metadata": {},
   "outputs": [],
   "source": [
    "project_path = Path('C:/Users/Ignacio/JupyterScripts/PyTorch/fashion_MNIST')\n",
    "data_path = Path('src/')\n",
    "notebook_path = Path('notebooks/')\n",
    "reports = Path('reports/')\n",
    "img = Path('img/')"
   ]
  },
  {
   "cell_type": "markdown",
   "id": "a9e1a77b-b938-43ce-b5fa-c1f7c902ea62",
   "metadata": {},
   "source": [
    "## Getting the data\n",
    "\n",
    "The Fashion MNIST dataset will be downloaded from `torchvision.datasets`"
   ]
  },
  {
   "cell_type": "code",
   "execution_count": 8,
   "id": "ad839e91-e551-42f0-a2c0-5a862efdcd33",
   "metadata": {},
   "outputs": [
    {
     "name": "stdout",
     "output_type": "stream",
     "text": [
      "Downloading http://fashion-mnist.s3-website.eu-central-1.amazonaws.com/train-images-idx3-ubyte.gz\n",
      "Downloading http://fashion-mnist.s3-website.eu-central-1.amazonaws.com/train-images-idx3-ubyte.gz to C:\\Users\\Ignacio\\JupyterScripts\\PyTorch\\fashion_MNIST\\src\\FashionMNIST\\raw\\train-images-idx3-ubyte.gz\n"
     ]
    },
    {
     "name": "stderr",
     "output_type": "stream",
     "text": [
      "100%|█████████████████████████████████████████████████████████████████████████████| 26.4M/26.4M [00:06<00:00, 3.78MB/s]\n"
     ]
    },
    {
     "name": "stdout",
     "output_type": "stream",
     "text": [
      "Extracting C:\\Users\\Ignacio\\JupyterScripts\\PyTorch\\fashion_MNIST\\src\\FashionMNIST\\raw\\train-images-idx3-ubyte.gz to C:\\Users\\Ignacio\\JupyterScripts\\PyTorch\\fashion_MNIST\\src\\FashionMNIST\\raw\n",
      "\n",
      "Downloading http://fashion-mnist.s3-website.eu-central-1.amazonaws.com/train-labels-idx1-ubyte.gz\n",
      "Downloading http://fashion-mnist.s3-website.eu-central-1.amazonaws.com/train-labels-idx1-ubyte.gz to C:\\Users\\Ignacio\\JupyterScripts\\PyTorch\\fashion_MNIST\\src\\FashionMNIST\\raw\\train-labels-idx1-ubyte.gz\n"
     ]
    },
    {
     "name": "stderr",
     "output_type": "stream",
     "text": [
      "100%|█████████████████████████████████████████████████████████████████████████████| 29.5k/29.5k [00:00<00:00, 95.7kB/s]\n"
     ]
    },
    {
     "name": "stdout",
     "output_type": "stream",
     "text": [
      "Extracting C:\\Users\\Ignacio\\JupyterScripts\\PyTorch\\fashion_MNIST\\src\\FashionMNIST\\raw\\train-labels-idx1-ubyte.gz to C:\\Users\\Ignacio\\JupyterScripts\\PyTorch\\fashion_MNIST\\src\\FashionMNIST\\raw\n",
      "\n",
      "Downloading http://fashion-mnist.s3-website.eu-central-1.amazonaws.com/t10k-images-idx3-ubyte.gz\n",
      "Downloading http://fashion-mnist.s3-website.eu-central-1.amazonaws.com/t10k-images-idx3-ubyte.gz to C:\\Users\\Ignacio\\JupyterScripts\\PyTorch\\fashion_MNIST\\src\\FashionMNIST\\raw\\t10k-images-idx3-ubyte.gz\n"
     ]
    },
    {
     "name": "stderr",
     "output_type": "stream",
     "text": [
      "100%|█████████████████████████████████████████████████████████████████████████████| 4.42M/4.42M [00:02<00:00, 1.59MB/s]\n"
     ]
    },
    {
     "name": "stdout",
     "output_type": "stream",
     "text": [
      "Extracting C:\\Users\\Ignacio\\JupyterScripts\\PyTorch\\fashion_MNIST\\src\\FashionMNIST\\raw\\t10k-images-idx3-ubyte.gz to C:\\Users\\Ignacio\\JupyterScripts\\PyTorch\\fashion_MNIST\\src\\FashionMNIST\\raw\n",
      "\n",
      "Downloading http://fashion-mnist.s3-website.eu-central-1.amazonaws.com/t10k-labels-idx1-ubyte.gz\n",
      "Downloading http://fashion-mnist.s3-website.eu-central-1.amazonaws.com/t10k-labels-idx1-ubyte.gz to C:\\Users\\Ignacio\\JupyterScripts\\PyTorch\\fashion_MNIST\\src\\FashionMNIST\\raw\\t10k-labels-idx1-ubyte.gz\n"
     ]
    },
    {
     "name": "stderr",
     "output_type": "stream",
     "text": [
      "100%|█████████████████████████████████████████████████████████████████████████████| 5.15k/5.15k [00:00<00:00, 5.16MB/s]"
     ]
    },
    {
     "name": "stdout",
     "output_type": "stream",
     "text": [
      "Extracting C:\\Users\\Ignacio\\JupyterScripts\\PyTorch\\fashion_MNIST\\src\\FashionMNIST\\raw\\t10k-labels-idx1-ubyte.gz to C:\\Users\\Ignacio\\JupyterScripts\\PyTorch\\fashion_MNIST\\src\\FashionMNIST\\raw\n",
      "\n"
     ]
    },
    {
     "name": "stderr",
     "output_type": "stream",
     "text": [
      "\n"
     ]
    }
   ],
   "source": [
    "train_data = datasets.FashionMNIST(\n",
    "    root=project_path / data_path,\n",
    "    train=True,\n",
    "    download=True,\n",
    "    transform=ToTensor(),\n",
    "    target_transform=None\n",
    ")\n",
    "\n",
    "test_data = datasets.FashionMNIST(\n",
    "    root=project_path / data_path,\n",
    "    train=False,\n",
    "    download=True,\n",
    "    transform=ToTensor(),\n",
    "    target_transform=None\n",
    ")"
   ]
  },
  {
   "cell_type": "code",
   "execution_count": null,
   "id": "3ade6129-4ae6-4620-a8fc-d5d7dedcf56c",
   "metadata": {},
   "outputs": [],
   "source": [
    "\"C:\\Users\\Ignacio\\JupyterScripts\\PyTorch\\fashion_MNIST\\src\""
   ]
  }
 ],
 "metadata": {
  "kernelspec": {
   "display_name": "Python 3 (ipykernel)",
   "language": "python",
   "name": "python3"
  },
  "language_info": {
   "codemirror_mode": {
    "name": "ipython",
    "version": 3
   },
   "file_extension": ".py",
   "mimetype": "text/x-python",
   "name": "python",
   "nbconvert_exporter": "python",
   "pygments_lexer": "ipython3",
   "version": "3.11.7"
  }
 },
 "nbformat": 4,
 "nbformat_minor": 5
}
